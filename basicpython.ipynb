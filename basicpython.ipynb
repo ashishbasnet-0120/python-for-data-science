{
 "cells": [
  {
   "attachments": {},
   "cell_type": "markdown",
   "id": "efca9111-327c-4bfb-8909-7820acbfd626",
   "metadata": {},
   "source": [
    "# Basic python (simple message)\n",
    "\n",
    "\n"
   ]
  },
  {
   "cell_type": "code",
   "execution_count": 10,
   "id": "e406acbd-5d3c-43fe-9013-89401198aa17",
   "metadata": {},
   "outputs": [
    {
     "name": "stdout",
     "output_type": "stream",
     "text": [
      "Hello World!\n"
     ]
    }
   ],
   "source": [
    "print(\"Hello World!\")"
   ]
  },
  {
   "cell_type": "code",
   "execution_count": 12,
   "id": "da50679d-a5d6-465b-a847-5985ffc584df",
   "metadata": {},
   "outputs": [
    {
     "data": {
      "text/plain": [
       "'Hello World!'"
      ]
     },
     "execution_count": 12,
     "metadata": {},
     "output_type": "execute_result"
    }
   ],
   "source": [
    "#comments  in python\n",
    "#benefit of jupyterNotebook\n",
    "\"Hello World!\"\n"
   ]
  },
  {
   "cell_type": "code",
   "execution_count": 14,
   "id": "a9992cde-493a-4030-9f3d-34deff395921",
   "metadata": {},
   "outputs": [
    {
     "data": {
      "text/plain": [
       "5"
      ]
     },
     "execution_count": 14,
     "metadata": {},
     "output_type": "execute_result"
    }
   ],
   "source": [
    "2+3"
   ]
  },
  {
   "cell_type": "code",
   "execution_count": 16,
   "id": "51727aba-0afe-4a81-bc15-e431fa294442",
   "metadata": {},
   "outputs": [
    {
     "data": {
      "text/plain": [
       "bool"
      ]
     },
     "execution_count": 16,
     "metadata": {},
     "output_type": "execute_result"
    }
   ],
   "source": [
    "type(True)"
   ]
  },
  {
   "cell_type": "code",
   "execution_count": 20,
   "id": "0cd0ae2d-467a-4b8a-bc82-027fe67180b7",
   "metadata": {},
   "outputs": [
    {
     "data": {
      "text/plain": [
       "bool"
      ]
     },
     "execution_count": 20,
     "metadata": {},
     "output_type": "execute_result"
    }
   ],
   "source": [
    "type(False)"
   ]
  },
  {
   "cell_type": "code",
   "execution_count": 26,
   "id": "dd7f6b86-9ee8-405f-91f4-35568205c24d",
   "metadata": {},
   "outputs": [
    {
     "name": "stdout",
     "output_type": "stream",
     "text": [
      "age:36:\n"
     ]
    }
   ],
   "source": [
    "print(\"age:36:\")"
   ]
  },
  {
   "cell_type": "code",
   "execution_count": 28,
   "id": "10e65264-0547-4383-9605-e398dd7f6dc2",
   "metadata": {},
   "outputs": [
    {
     "data": {
      "text/plain": [
       "1"
      ]
     },
     "execution_count": 28,
     "metadata": {},
     "output_type": "execute_result"
    }
   ],
   "source": [
    "4-3"
   ]
  },
  {
   "cell_type": "code",
   "execution_count": null,
   "id": "6cb8148c-1655-4b2a-a2ef-b1422cde5a2d",
   "metadata": {},
   "outputs": [],
   "source": []
  },
  {
   "cell_type": "code",
   "execution_count": null,
   "id": "1fe6c3c1-84d7-4f35-942f-ab49be9af64f",
   "metadata": {},
   "outputs": [],
   "source": []
  },
  {
   "cell_type": "markdown",
   "id": "af318186-a29d-42aa-9675-3f1263266570",
   "metadata": {},
   "source": [
    "# String methods in python\n"
   ]
  },
  {
   "cell_type": "code",
   "execution_count": 32,
   "id": "d53482d0-5865-4457-905e-9cbe927a6778",
   "metadata": {},
   "outputs": [
    {
     "name": "stdout",
     "output_type": "stream",
     "text": [
      "ASHISH BASNET\n"
     ]
    }
   ],
   "source": [
    "print(\"ashish basnet\".upper())"
   ]
  },
  {
   "cell_type": "code",
   "execution_count": 34,
   "id": "a46fb610-2288-4a9b-921e-6e1967011065",
   "metadata": {},
   "outputs": [
    {
     "name": "stdout",
     "output_type": "stream",
     "text": [
      "ram bahadur\n"
     ]
    }
   ],
   "source": [
    "print(\"RAM BAHADUR\".lower())"
   ]
  },
  {
   "cell_type": "code",
   "execution_count": 36,
   "id": "e9a6f9bd-cfec-4b89-8d0d-2a9770fac2b2",
   "metadata": {},
   "outputs": [
    {
     "name": "stdout",
     "output_type": "stream",
     "text": [
      "Nepal Is A Beautiful Country\n"
     ]
    }
   ],
   "source": [
    "print(\"Nepal is a beautiful country\".title())"
   ]
  },
  {
   "cell_type": "code",
   "execution_count": 38,
   "id": "023b1f39-413b-46aa-a179-3f7c2a096f3c",
   "metadata": {},
   "outputs": [
    {
     "name": "stdout",
     "output_type": "stream",
     "text": [
      "3\n"
     ]
    }
   ],
   "source": [
    "print(\"pineapple\".count(\"p\"))"
   ]
  },
  {
   "cell_type": "code",
   "execution_count": 42,
   "id": "a7b3415d-bfe9-42fa-8880-51611f3b22c1",
   "metadata": {},
   "outputs": [
    {
     "name": "stdout",
     "output_type": "stream",
     "text": [
      "shoam\n"
     ]
    }
   ],
   "source": [
    "#replace methods\n",
    "\n",
    "# .replace(oldvalue, newvalue)\n",
    "\n",
    "print(\"shyam\".replace(\"y\",\"o\"))"
   ]
  },
  {
   "cell_type": "code",
   "execution_count": null,
   "id": "cee0d46a-0593-4613-b9c9-3a27dd8c5da3",
   "metadata": {},
   "outputs": [],
   "source": []
  },
  {
   "cell_type": "code",
   "execution_count": null,
   "id": "a2636061-9c3a-4919-9e72-89ecc5560cb1",
   "metadata": {},
   "outputs": [],
   "source": []
  },
  {
   "cell_type": "markdown",
   "id": "d006a509-4671-4a9f-b622-34adaa549930",
   "metadata": {},
   "source": [
    "# variables"
   ]
  },
  {
   "cell_type": "markdown",
   "id": "08d8dd89-2b25-40eb-a350-84399077c440",
   "metadata": {},
   "source": [
    "### variables helps to store data values and manage data properly"
   ]
  },
  {
   "cell_type": "code",
   "execution_count": 51,
   "id": "42bf9caa-707b-4ff1-bd7c-22c256508619",
   "metadata": {},
   "outputs": [
    {
     "name": "stdout",
     "output_type": "stream",
     "text": [
      "hey i'm from Nepal\n"
     ]
    }
   ],
   "source": [
    "message_1=\"hey i'm from Nepal\"\n",
    "\n",
    "print(message_1)"
   ]
  },
  {
   "cell_type": "code",
   "execution_count": 53,
   "id": "56aa79f0-368b-4feb-ac3e-901fa4e2f051",
   "metadata": {},
   "outputs": [
    {
     "name": "stdout",
     "output_type": "stream",
     "text": [
      "I love my country\n"
     ]
    }
   ],
   "source": [
    "message_2=\"I love my country\"\n",
    "print(message_2)"
   ]
  },
  {
   "cell_type": "code",
   "execution_count": null,
   "id": "0d181dad-e809-4c15-998c-84cb290352fd",
   "metadata": {},
   "outputs": [],
   "source": []
  },
  {
   "cell_type": "code",
   "execution_count": null,
   "id": "9a11365f-5e13-434e-afb1-fb9dc44e9ec1",
   "metadata": {},
   "outputs": [],
   "source": []
  },
  {
   "cell_type": "markdown",
   "id": "1f314e8a-f287-4313-a43a-4e529040c3d8",
   "metadata": {},
   "source": [
    "# string concat"
   ]
  },
  {
   "cell_type": "code",
   "execution_count": 58,
   "id": "bcc44a67-9a2c-4eae-b9ab-5f8af6650fe0",
   "metadata": {},
   "outputs": [
    {
     "name": "stdout",
     "output_type": "stream",
     "text": [
      "hey i'm from NepalI love my country\n"
     ]
    }
   ],
   "source": [
    "# there will be problem after joining this lets see\n",
    "message= message_1 + message_2\n",
    "print(message)"
   ]
  },
  {
   "cell_type": "code",
   "execution_count": 60,
   "id": "5d620291-9e8b-4f3a-98b7-7959368b2eb6",
   "metadata": {},
   "outputs": [
    {
     "name": "stdout",
     "output_type": "stream",
     "text": [
      "hey i'm from Nepal I love my country\n"
     ]
    }
   ],
   "source": [
    "message= message_1 +\" \"+ message_2\n",
    "print(message)"
   ]
  },
  {
   "cell_type": "code",
   "execution_count": null,
   "id": "e15c2022-5647-4b32-a5a7-e7f7cd8ab8e6",
   "metadata": {},
   "outputs": [],
   "source": []
  },
  {
   "cell_type": "code",
   "execution_count": null,
   "id": "230f3d9f-f826-4a9b-8895-d152493f1bbe",
   "metadata": {},
   "outputs": [],
   "source": []
  },
  {
   "cell_type": "markdown",
   "id": "3486ddc1-99e7-4557-b353-4c8b85385c3f",
   "metadata": {},
   "source": [
    "# f''= means f string "
   ]
  },
  {
   "cell_type": "markdown",
   "id": "f9253bb5-b2fb-4d75-b4ee-63ee2729909e",
   "metadata": {},
   "source": [
    "#### Everything outside {} is treated as a normal string.\n",
    "\n",
    "#### Everything inside {} is treated as a Python expression, not just a string."
   ]
  },
  {
   "cell_type": "code",
   "execution_count": 69,
   "id": "80c4cb48-80ae-4d34-875f-d7da60d52b8f",
   "metadata": {},
   "outputs": [
    {
     "data": {
      "text/plain": [
       "\"yes, hey i'm from Nepal I love my country\""
      ]
     },
     "execution_count": 69,
     "metadata": {},
     "output_type": "execute_result"
    }
   ],
   "source": [
    "f'yes, {message_1} {message_2}'"
   ]
  },
  {
   "cell_type": "code",
   "execution_count": null,
   "id": "da3c938a-3fa1-44df-93ef-7aef241c564e",
   "metadata": {},
   "outputs": [],
   "source": []
  },
  {
   "cell_type": "code",
   "execution_count": null,
   "id": "3e0473cb-1adb-4a86-943f-dd5047e30251",
   "metadata": {},
   "outputs": [],
   "source": []
  },
  {
   "cell_type": "markdown",
   "id": "b3d85a22-1cfe-4937-96a4-862cff7aafaf",
   "metadata": {},
   "source": [
    "# Data types often used in data analysis "
   ]
  },
  {
   "cell_type": "markdown",
   "id": "ad701a0e-ea2c-4a41-b939-c509e7a1bb79",
   "metadata": {},
   "source": [
    "### LIST"
   ]
  },
  {
   "cell_type": "markdown",
   "id": "2c4cb720-cb3a-4bd9-b629-0de5d570e400",
   "metadata": {},
   "source": [
    "##### list are used to store multiple items ina single variable. \n",
    "##### 1.list are ordered and mutuable containers. \n",
    "##### 2.IN python we call mutable , an object that can change values . \n",
    "##### 3.it can contain multiple data types float, integer, string etc.\n",
    "##### 4. it can have duplicate values."
   ]
  },
  {
   "cell_type": "code",
   "execution_count": 78,
   "id": "99cc8181-b97f-4fdc-ab1d-a4c42afe58b0",
   "metadata": {},
   "outputs": [
    {
     "name": "stdout",
     "output_type": "stream",
     "text": [
      "['Apple', 'Mango', 'pineapple', 26, 32.5]\n"
     ]
    }
   ],
   "source": [
    "fruits=['Apple','Mango','pineapple', 26,32.5]\n",
    "print(fruits)"
   ]
  },
  {
   "cell_type": "code",
   "execution_count": 86,
   "id": "9faeb1f7-8388-4380-b497-76684c3781cc",
   "metadata": {},
   "outputs": [
    {
     "name": "stdout",
     "output_type": "stream",
     "text": [
      "['Nepal', 'Nepal', 32, 60.5]\n"
     ]
    }
   ],
   "source": [
    "countries=['Nepal','Nepal',32, 60.5]\n",
    "print(countries)"
   ]
  },
  {
   "cell_type": "markdown",
   "id": "8bd92239-88ac-438e-9cea-255382303a3c",
   "metadata": {},
   "source": [
    "### python use 0 based indexing means 0,1,2,3,4 and so on \n"
   ]
  },
  {
   "cell_type": "code",
   "execution_count": 89,
   "id": "135f21a7-6110-4fda-a6a3-99b4cbb76dfe",
   "metadata": {},
   "outputs": [
    {
     "name": "stdout",
     "output_type": "stream",
     "text": [
      "60.5\n"
     ]
    }
   ],
   "source": [
    "print(countries[3])"
   ]
  },
  {
   "cell_type": "code",
   "execution_count": 91,
   "id": "b3f04690-a972-4932-9a5d-5a2ecc3374ed",
   "metadata": {},
   "outputs": [
    {
     "name": "stdout",
     "output_type": "stream",
     "text": [
      "pineapple\n"
     ]
    }
   ],
   "source": [
    "print(fruits[2])"
   ]
  },
  {
   "cell_type": "markdown",
   "id": "1389c27c-9f12-40d3-a731-a4f7f38772d5",
   "metadata": {},
   "source": [
    "##### we can also use negative indexing in python means last element is -1 second last\n",
    "##### element will -2 then -3, -4 and so on "
   ]
  },
  {
   "cell_type": "code",
   "execution_count": 97,
   "id": "5209f019-03bc-4e93-945f-dbc00ee26877",
   "metadata": {},
   "outputs": [
    {
     "name": "stdout",
     "output_type": "stream",
     "text": [
      "32.5\n",
      "Nepal\n"
     ]
    }
   ],
   "source": [
    "print(fruits[-1])\n",
    "print(countries[-3])"
   ]
  },
  {
   "cell_type": "code",
   "execution_count": null,
   "id": "d5fb6766-7d80-4ef5-ad80-4f1ef302be95",
   "metadata": {},
   "outputs": [],
   "source": []
  },
  {
   "cell_type": "markdown",
   "id": "319e087d-9dae-4882-ab2c-80822b56a2e1",
   "metadata": {},
   "source": [
    "# slicing \n",
    "###### slicing means accessing the parts of a list. slice is a subset of list elements\n",
    "###### list_name[start:stop] here last elment is not included but first element is included "
   ]
  },
  {
   "cell_type": "code",
   "execution_count": 104,
   "id": "28809d9b-5fc0-40cb-be46-8b1e4bfb0ceb",
   "metadata": {},
   "outputs": [
    {
     "name": "stdout",
     "output_type": "stream",
     "text": [
      "['Nepal', 'Nepal', 32]\n",
      "['pineapple', 26]\n"
     ]
    }
   ],
   "source": [
    "print(countries[0:3])\n",
    "\n",
    "print(fruits[2:4])"
   ]
  },
  {
   "cell_type": "code",
   "execution_count": 110,
   "id": "a5517aa3-ab7a-454f-97a2-20c15b6117d3",
   "metadata": {},
   "outputs": [
    {
     "name": "stdout",
     "output_type": "stream",
     "text": [
      "[32, 60.5]\n",
      "['Apple', 'Mango', 'pineapple']\n"
     ]
    }
   ],
   "source": [
    "# we can leave the start and last elemnt if we want to \n",
    "#find the elemts from first or from first to last one \n",
    "\n",
    "\n",
    "print(countries[2:])\n",
    "print(fruits[:3])"
   ]
  },
  {
   "cell_type": "code",
   "execution_count": null,
   "id": "7dd0ec66-b868-4cf6-9f33-596bdc520572",
   "metadata": {},
   "outputs": [],
   "source": []
  },
  {
   "cell_type": "markdown",
   "id": "13f2ef7c-8482-4369-a1ce-15928f0de63f",
   "metadata": {},
   "source": [
    "# Adding elemnts in a list "
   ]
  },
  {
   "cell_type": "code",
   "execution_count": 115,
   "id": "b882d829-de31-4852-9da9-c86b8155f4d4",
   "metadata": {},
   "outputs": [
    {
     "name": "stdout",
     "output_type": "stream",
     "text": [
      "['Apple', 'Mango', 'pineapple', 26, 32.5, 'grapes']\n"
     ]
    }
   ],
   "source": [
    "# append() method . it takes only one argument \n",
    "\n",
    "fruits.append('grapes')\n",
    "\n",
    "print(fruits)"
   ]
  },
  {
   "cell_type": "markdown",
   "id": "e2d184f0-9d9a-4803-9117-dd7e04e35526",
   "metadata": {},
   "source": [
    "#### basically, append() method add the elemnt at last in the list it is default. \n",
    "#### if we want to add element in desire position we use insert(index ,'value') method"
   ]
  },
  {
   "cell_type": "code",
   "execution_count": 121,
   "id": "71b1de48-04e2-4443-9162-0d20be7f47d9",
   "metadata": {},
   "outputs": [
    {
     "name": "stdout",
     "output_type": "stream",
     "text": [
      "['Banana', 'Apple', 'Mango', 'pineapple', 26, 32.5, 'grapes']\n"
     ]
    }
   ],
   "source": [
    "fruits.insert(0 ,'Banana')\n",
    "print(fruits)"
   ]
  },
  {
   "cell_type": "code",
   "execution_count": null,
   "id": "0ab14166-0e75-49f5-95f0-a025eb6febc8",
   "metadata": {},
   "outputs": [],
   "source": []
  },
  {
   "cell_type": "markdown",
   "id": "081d5da4-43c5-41d2-bd34-4e97daaae5a7",
   "metadata": {},
   "source": [
    "###  concat of lists \n"
   ]
  },
  {
   "cell_type": "code",
   "execution_count": 128,
   "id": "184fc35b-edd3-4a06-ba81-19dd9578f5af",
   "metadata": {},
   "outputs": [
    {
     "name": "stdout",
     "output_type": "stream",
     "text": [
      "['Nepal', 'Nepal', 32, 60.5, 'Banana', 'Apple', 'Mango', 'pineapple', 26, 32.5, 'grapes']\n"
     ]
    }
   ],
   "source": [
    "# using + operator\n",
    "new_list= countries + fruits \n",
    "print(new_list)"
   ]
  },
  {
   "cell_type": "code",
   "execution_count": 130,
   "id": "92ec4798-70d7-4247-b742-8b69c90fed97",
   "metadata": {},
   "outputs": [
    {
     "name": "stdout",
     "output_type": "stream",
     "text": [
      "[['Nepal', 'Nepal', 32, 60.5], ['Banana', 'Apple', 'Mango', 'pineapple', 26, 32.5, 'grapes']]\n"
     ]
    }
   ],
   "source": [
    "# concating list using nested list \n",
    "\n",
    "nested_list=[countries, fruits]\n",
    "print(nested_list)"
   ]
  },
  {
   "cell_type": "code",
   "execution_count": null,
   "id": "4f52b23b-c76a-41d1-9fc0-a0c855924218",
   "metadata": {},
   "outputs": [],
   "source": []
  },
  {
   "cell_type": "code",
   "execution_count": null,
   "id": "4058c8d2-4395-4bfe-ad19-2b78e6b980e4",
   "metadata": {},
   "outputs": [],
   "source": []
  }
 ],
 "metadata": {
  "kernelspec": {
   "display_name": "Python [conda env:base] *",
   "language": "python",
   "name": "conda-base-py"
  },
  "language_info": {
   "codemirror_mode": {
    "name": "ipython",
    "version": 3
   },
   "file_extension": ".py",
   "mimetype": "text/x-python",
   "name": "python",
   "nbconvert_exporter": "python",
   "pygments_lexer": "ipython3",
   "version": "3.12.7"
  }
 },
 "nbformat": 4,
 "nbformat_minor": 5
}
