{
 "cells": [
  {
   "cell_type": "markdown",
   "id": "567d2376-10c1-4158-b740-cfd7f3f64108",
   "metadata": {},
   "source": [
    "## if statement"
   ]
  },
  {
   "cell_type": "code",
   "execution_count": null,
   "id": "efc37bd8-7df8-4f7f-b066-5c68c9a9aa05",
   "metadata": {},
   "outputs": [],
   "source": [
    "if<condition>:\n",
    "    <code>\n",
    "elif<condition>:\n",
    "    <code>\n",
    "....\n",
    "\n",
    "else:\n",
    "    <code>\n"
   ]
  },
  {
   "cell_type": "code",
   "execution_count": 4,
   "id": "7bd7fbf0-7c5b-4c72-b5f0-ce833a6be0cc",
   "metadata": {},
   "outputs": [
    {
     "name": "stdout",
     "output_type": "stream",
     "text": [
      "you are old\n"
     ]
    }
   ],
   "source": [
    "\n",
    "\n",
    "age=80\n",
    "\n",
    "\n",
    "if age <=18:\n",
    "    print(\"you are kid\")\n",
    "\n",
    "elif age>=80:\n",
    "    print(\"you are old\")\n",
    "\n",
    "else:\n",
    "    print(\"you are child\")"
   ]
  },
  {
   "cell_type": "markdown",
   "id": "25b72517-52fd-48e3-8009-37ec1ec1e5f5",
   "metadata": {},
   "source": [
    "\n",
    "\n",
    "\n",
    "## for loop"
   ]
  },
  {
   "cell_type": "code",
   "execution_count": null,
   "id": "59f650cf-8e92-4ef9-a90a-8544adb52b7c",
   "metadata": {},
   "outputs": [],
   "source": [
    "\n",
    "for<temp variable> in <iterable/list>:\n",
    "\n",
    "\n",
    "    <code/temp variable>\n"
   ]
  },
  {
   "cell_type": "code",
   "execution_count": 7,
   "id": "f6f3e6f9-8f5f-4ecd-92ca-d615d1fa480f",
   "metadata": {},
   "outputs": [
    {
     "name": "stdout",
     "output_type": "stream",
     "text": [
      "2\n",
      "10\n",
      "25\n",
      "36\n",
      "5\n",
      "0\n",
      "1\n"
     ]
    }
   ],
   "source": [
    "\n",
    "numbers=[2,10,25,36,5,0,1]\n",
    "for num in numbers:\n",
    "    print(num)  # here we are printing each element of list using temp variable with the help of for loop"
   ]
  },
  {
   "cell_type": "code",
   "execution_count": 13,
   "id": "b6ae8d60-e05d-4184-bcbf-43c94198d0d2",
   "metadata": {},
   "outputs": [
    {
     "name": "stdout",
     "output_type": "stream",
     "text": [
      "name\n",
      "Ashish\n",
      "class\n",
      "10\n"
     ]
    }
   ],
   "source": [
    "\n",
    "# for loop in dictinary\n",
    "my_bio ={'name':'Ashish','class':10}\n",
    "\n",
    "for x,y in my_bio.items():\n",
    "    print(x)\n",
    "    print(y)"
   ]
  },
  {
   "cell_type": "code",
   "execution_count": null,
   "id": "dd204ef9-b86e-48a2-a25a-f00e94495c4c",
   "metadata": {},
   "outputs": [],
   "source": []
  },
  {
   "cell_type": "code",
   "execution_count": null,
   "id": "44086dea-0bee-47f7-aa7f-4300f9bf0c95",
   "metadata": {},
   "outputs": [],
   "source": []
  },
  {
   "cell_type": "code",
   "execution_count": null,
   "id": "d0816d2c-b698-4ebf-bef3-fc271a9ec7f5",
   "metadata": {},
   "outputs": [],
   "source": []
  },
  {
   "cell_type": "code",
   "execution_count": null,
   "id": "bf1ab129-babb-4cae-a41f-888ea22db39e",
   "metadata": {},
   "outputs": [],
   "source": []
  },
  {
   "cell_type": "code",
   "execution_count": null,
   "id": "a6c22bed-b2bc-4493-b495-0eb04685fec8",
   "metadata": {},
   "outputs": [],
   "source": []
  },
  {
   "cell_type": "code",
   "execution_count": null,
   "id": "66cc1ae9-17b3-431f-b94f-b4a89cde6098",
   "metadata": {},
   "outputs": [],
   "source": []
  },
  {
   "cell_type": "code",
   "execution_count": null,
   "id": "adfebefc-ae90-4d99-add4-6bf7c33c262f",
   "metadata": {},
   "outputs": [],
   "source": []
  },
  {
   "cell_type": "code",
   "execution_count": null,
   "id": "d3433ed1-855b-4ed4-b18a-df8f5def770a",
   "metadata": {},
   "outputs": [],
   "source": []
  },
  {
   "cell_type": "code",
   "execution_count": null,
   "id": "b139b611-ccb9-4957-9f65-976663c547e8",
   "metadata": {},
   "outputs": [],
   "source": []
  },
  {
   "cell_type": "code",
   "execution_count": null,
   "id": "fb6e582b-3a86-41b0-acdc-0e3e7bfea33f",
   "metadata": {},
   "outputs": [],
   "source": []
  },
  {
   "cell_type": "code",
   "execution_count": null,
   "id": "3bc7851e-050c-48b2-95c5-c52b4d0e818c",
   "metadata": {},
   "outputs": [],
   "source": []
  },
  {
   "cell_type": "code",
   "execution_count": null,
   "id": "d97d0341-471e-4bf9-9fa9-41e6c97662ed",
   "metadata": {},
   "outputs": [],
   "source": []
  },
  {
   "cell_type": "code",
   "execution_count": null,
   "id": "d11b5474-7e8a-4b3b-9cd4-087e51145cba",
   "metadata": {},
   "outputs": [],
   "source": []
  },
  {
   "cell_type": "code",
   "execution_count": null,
   "id": "c9ddbe09-fd46-4d30-81e9-3be073623798",
   "metadata": {},
   "outputs": [],
   "source": []
  },
  {
   "cell_type": "code",
   "execution_count": null,
   "id": "d238153b-bd1d-4b6c-bb27-50411741cd3c",
   "metadata": {},
   "outputs": [],
   "source": []
  },
  {
   "cell_type": "code",
   "execution_count": null,
   "id": "b2af2338-7228-4a18-a538-efa78159a2f5",
   "metadata": {},
   "outputs": [],
   "source": []
  },
  {
   "cell_type": "code",
   "execution_count": null,
   "id": "c831c9bc-a70e-42c1-8f17-e5a91afe254c",
   "metadata": {},
   "outputs": [],
   "source": []
  },
  {
   "cell_type": "code",
   "execution_count": null,
   "id": "11027a98-2ff9-476a-b029-a27581ac7cc3",
   "metadata": {},
   "outputs": [],
   "source": []
  },
  {
   "cell_type": "code",
   "execution_count": null,
   "id": "e459a2df-af69-4cab-9932-dbec2e8b91b1",
   "metadata": {},
   "outputs": [],
   "source": []
  },
  {
   "cell_type": "code",
   "execution_count": null,
   "id": "c3a582cc-3bd4-4f39-8cc3-ee3eb438e10c",
   "metadata": {},
   "outputs": [],
   "source": []
  }
 ],
 "metadata": {
  "kernelspec": {
   "display_name": "Python [conda env:base] *",
   "language": "python",
   "name": "conda-base-py"
  },
  "language_info": {
   "codemirror_mode": {
    "name": "ipython",
    "version": 3
   },
   "file_extension": ".py",
   "mimetype": "text/x-python",
   "name": "python",
   "nbconvert_exporter": "python",
   "pygments_lexer": "ipython3",
   "version": "3.12.7"
  }
 },
 "nbformat": 4,
 "nbformat_minor": 5
}
