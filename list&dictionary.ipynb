{
 "cells": [
  {
   "cell_type": "markdown",
   "id": "1646e47a-9219-42e7-98f5-9f0872343fb0",
   "metadata": {},
   "source": [
    "## sorting in list\n",
    "### sort() method is used to sort numbers in ascending order default\n"
   ]
  },
  {
   "cell_type": "code",
   "execution_count": 2,
   "id": "cf8fee1b-17a4-4640-8141-33fb189ca30c",
   "metadata": {},
   "outputs": [
    {
     "name": "stdout",
     "output_type": "stream",
     "text": [
      "[0, 1, 2, 5, 10, 25, 36]\n"
     ]
    }
   ],
   "source": [
    "\n",
    "\n",
    "numbers=[2,10,25,36,5,0,1]\n",
    "numbers.sort()\n",
    "print(numbers)"
   ]
  },
  {
   "cell_type": "code",
   "execution_count": 4,
   "id": "afa09217-9655-4f63-b426-3dff98ce3bf2",
   "metadata": {},
   "outputs": [
    {
     "name": "stdout",
     "output_type": "stream",
     "text": [
      "[36, 25, 10, 5, 2, 1, 0]\n"
     ]
    }
   ],
   "source": [
    "\n",
    "\n",
    "## descending order\n",
    "\n",
    "numbers.sort(reverse=True)\n",
    "print(numbers)"
   ]
  },
  {
   "cell_type": "markdown",
   "id": "4fffd632-7899-43b4-877b-87e81bd0814a",
   "metadata": {},
   "source": [
    "\n",
    "\n",
    "\n",
    "\n",
    "\n",
    "### updating a list\n",
    "\n"
   ]
  },
  {
   "cell_type": "code",
   "execution_count": 7,
   "id": "3bb0c0ab-4e5a-4859-8250-176313f84e1e",
   "metadata": {},
   "outputs": [
    {
     "name": "stdout",
     "output_type": "stream",
     "text": [
      "[2, 10, 25, 50, 5, 0, 1]\n"
     ]
    }
   ],
   "source": [
    "numbers=[2,10,25,36,5,0,1]\n",
    "\n",
    "numbers[3]=50\n",
    "\n",
    "print(numbers)\n",
    "\n",
    "\n"
   ]
  },
  {
   "cell_type": "markdown",
   "id": "f2ad5969-98e2-497d-87f9-bd27cd606e4f",
   "metadata": {},
   "source": [
    "\n",
    "### copying a list "
   ]
  },
  {
   "cell_type": "code",
   "execution_count": 12,
   "id": "65126d9c-0c8d-4051-9c9e-03ad50366ad5",
   "metadata": {},
   "outputs": [
    {
     "name": "stdout",
     "output_type": "stream",
     "text": [
      "[2, 10, 25, 36, 5, 0, 1]\n"
     ]
    }
   ],
   "source": [
    "numbers=[2,10,25,36,5,0,1]\n",
    "\n",
    "num=numbers.copy()\n",
    "print(num)"
   ]
  },
  {
   "cell_type": "code",
   "execution_count": 14,
   "id": "bf80e095-2b19-4e04-9a33-1c9182caad4c",
   "metadata": {},
   "outputs": [
    {
     "name": "stdout",
     "output_type": "stream",
     "text": [
      "[2, 10, 25, 36, 5, 0, 1]\n"
     ]
    }
   ],
   "source": [
    "\n",
    "\n",
    "## another method leaving the start and end as nothing it means we want to copy\n",
    "\n",
    "numbers=[2,10,25,36,5,0,1]\n",
    "num1=numbers[:]\n",
    "print(num1)"
   ]
  },
  {
   "cell_type": "markdown",
   "id": "481003b8-29bc-4cb6-b299-2df509ef7e89",
   "metadata": {},
   "source": [
    "# Dictionary"
   ]
  },
  {
   "cell_type": "code",
   "execution_count": 19,
   "id": "9a214724-842d-48b8-b17e-f00cf14d02f2",
   "metadata": {},
   "outputs": [
    {
     "name": "stdout",
     "output_type": "stream",
     "text": [
      "{'name': 'Ashish', 'class': 10}\n"
     ]
    }
   ],
   "source": [
    "#  my_bio ={'key':'value1','key':'value2'}\n",
    "\n",
    "#here  first key and value1 is regarded as item   and key and value2 as another items\n",
    "\n",
    "\n",
    "my_bio ={'name':'Ashish','class':10}\n",
    "print(my_bio)"
   ]
  },
  {
   "cell_type": "markdown",
   "id": "1d4073a9-df8e-4934-97a5-13420dfe9576",
   "metadata": {},
   "source": [
    "## adding a data in dictionary\n"
   ]
  },
  {
   "cell_type": "code",
   "execution_count": 22,
   "id": "dba9b28c-5e98-4f29-bf9c-dfe0862cee38",
   "metadata": {},
   "outputs": [
    {
     "name": "stdout",
     "output_type": "stream",
     "text": [
      "{'name': 'Ashish', 'class': 10, 'grade': 'B'}\n"
     ]
    }
   ],
   "source": [
    "\n",
    "my_bio ['grade']='B'\n",
    "print(my_bio)"
   ]
  },
  {
   "cell_type": "markdown",
   "id": "7b820692-2ae7-40a7-89d9-3cdee88e98ec",
   "metadata": {},
   "source": [
    "### using a keys() and values() and itemds() methods\n"
   ]
  },
  {
   "cell_type": "code",
   "execution_count": 25,
   "id": "e10ca22f-b89f-4cb7-9a7e-84bea18650bd",
   "metadata": {},
   "outputs": [
    {
     "name": "stdout",
     "output_type": "stream",
     "text": [
      "dict_keys(['name', 'class'])\n"
     ]
    }
   ],
   "source": [
    "my_bio ={'name':'Ashish','class':10}\n",
    "my_bio1=my_bio.keys()\n",
    "print(my_bio1)\n",
    "\n"
   ]
  },
  {
   "cell_type": "code",
   "execution_count": 27,
   "id": "60ca0505-760a-4d0a-9a30-7dcf443b1e00",
   "metadata": {},
   "outputs": [
    {
     "name": "stdout",
     "output_type": "stream",
     "text": [
      "dict_values(['Ashish', 10])\n"
     ]
    }
   ],
   "source": [
    "\n",
    "mybio2=my_bio.values()\n",
    "print(mybio2)"
   ]
  },
  {
   "cell_type": "code",
   "execution_count": 30,
   "id": "1c8347f0-07df-4f87-a682-fd5ff6a0f8e2",
   "metadata": {},
   "outputs": [
    {
     "data": {
      "text/plain": [
       "{'name': 'Ashish', 'class': 10}"
      ]
     },
     "execution_count": 30,
     "metadata": {},
     "output_type": "execute_result"
    }
   ],
   "source": [
    "\n",
    "my_bio.items()\n",
    "my_bio"
   ]
  },
  {
   "cell_type": "markdown",
   "id": "24297bf1-09d0-4b3a-94ac-9de85ad99669",
   "metadata": {},
   "source": [
    "\n",
    "#### updating a dictionary"
   ]
  },
  {
   "cell_type": "code",
   "execution_count": 33,
   "id": "5b378fdc-f086-43e4-bd61-c385fb5e2ee5",
   "metadata": {},
   "outputs": [
    {
     "data": {
      "text/plain": [
       "{'name': 'Ashish', 'class': 'bachelor'}"
      ]
     },
     "execution_count": 33,
     "metadata": {},
     "output_type": "execute_result"
    }
   ],
   "source": [
    "\n",
    "my_bio ={'name':'Ashish','class':10}\n",
    "my_bio.update({'class':\"bachelor\"})\n",
    "my_bio"
   ]
  },
  {
   "cell_type": "markdown",
   "id": "0dfd5dd4-c468-423f-89bd-f778748512f1",
   "metadata": {},
   "source": [
    "### copying a dictionary"
   ]
  },
  {
   "cell_type": "code",
   "execution_count": 36,
   "id": "99bb80e5-77c8-41a7-9ebd-75762a21cae4",
   "metadata": {},
   "outputs": [
    {
     "name": "stdout",
     "output_type": "stream",
     "text": [
      "{'name': 'Ashish', 'class': 10}\n"
     ]
    }
   ],
   "source": [
    "my_bio ={'name':'Ashish','class':10}\n",
    "my_bio3=my_bio.copy()\n",
    "\n",
    "print(my_bio)\n"
   ]
  },
  {
   "cell_type": "markdown",
   "id": "eed9e59d-ebbe-4225-9998-821c3c521a0a",
   "metadata": {},
   "source": [
    "#### removing from a dictionary"
   ]
  },
  {
   "cell_type": "code",
   "execution_count": 39,
   "id": "090e4257-f058-4e8b-b072-50d6abcca613",
   "metadata": {},
   "outputs": [
    {
     "data": {
      "text/plain": [
       "'Ashish'"
      ]
     },
     "execution_count": 39,
     "metadata": {},
     "output_type": "execute_result"
    }
   ],
   "source": [
    "# using pop(),clear(),del\n",
    "\n",
    "my_bio ={'name':'Ashish','class':10}\n",
    "my_bio.pop('name')# pop method returns the  value of removed key\n",
    "\n"
   ]
  },
  {
   "cell_type": "code",
   "execution_count": 43,
   "id": "072f26cc-94f5-4dec-b9af-eb3f6d9c98f8",
   "metadata": {},
   "outputs": [
    {
     "name": "stdout",
     "output_type": "stream",
     "text": [
      "{'name': 'Ashish'}\n"
     ]
    }
   ],
   "source": [
    "\n",
    "#del\n",
    "my_bio ={'name':'Ashish','class':10}\n",
    "del my_bio ['class']\n",
    "print(my_bio)"
   ]
  },
  {
   "cell_type": "code",
   "execution_count": 45,
   "id": "bc28af9c-2082-4a3f-82a1-c19c7ee2c2aa",
   "metadata": {},
   "outputs": [
    {
     "name": "stdout",
     "output_type": "stream",
     "text": [
      "{}\n"
     ]
    }
   ],
   "source": [
    "\n",
    "#clear method clear the all elements from the dictionary\n",
    "my_bio ={'name':'Ashish','class':10}\n",
    "my_bio.clear()\n",
    "print(my_bio)\n"
   ]
  },
  {
   "cell_type": "code",
   "execution_count": null,
   "id": "81a0600e-402c-4409-8dad-1c0e7c25e363",
   "metadata": {},
   "outputs": [],
   "source": []
  },
  {
   "cell_type": "code",
   "execution_count": null,
   "id": "20905199-221f-4183-8066-4d24fe417d29",
   "metadata": {},
   "outputs": [],
   "source": []
  },
  {
   "cell_type": "code",
   "execution_count": null,
   "id": "75524f93-e94f-446b-bebb-7cd83f729ed8",
   "metadata": {},
   "outputs": [],
   "source": []
  },
  {
   "cell_type": "code",
   "execution_count": null,
   "id": "576a82af-1ab3-496a-9508-71860898df6d",
   "metadata": {},
   "outputs": [],
   "source": []
  },
  {
   "cell_type": "code",
   "execution_count": null,
   "id": "3384a533-205f-424f-9e5b-3fe48837aecf",
   "metadata": {},
   "outputs": [],
   "source": []
  },
  {
   "cell_type": "code",
   "execution_count": null,
   "id": "d5e4fe33-8ac3-4180-84ca-d52568b3e27a",
   "metadata": {},
   "outputs": [],
   "source": []
  },
  {
   "cell_type": "code",
   "execution_count": null,
   "id": "dbfef5f9-b3ed-4f6f-8a57-0486aec577d7",
   "metadata": {},
   "outputs": [],
   "source": []
  },
  {
   "cell_type": "code",
   "execution_count": null,
   "id": "037324c9-376b-460b-b13a-f9074b0cb350",
   "metadata": {},
   "outputs": [],
   "source": []
  },
  {
   "cell_type": "code",
   "execution_count": null,
   "id": "a86d6c06-9f84-48d3-a157-20a44ce5eff0",
   "metadata": {},
   "outputs": [],
   "source": []
  },
  {
   "cell_type": "code",
   "execution_count": null,
   "id": "0a383887-34fa-455d-8edd-52620ca86f4e",
   "metadata": {},
   "outputs": [],
   "source": []
  },
  {
   "cell_type": "code",
   "execution_count": null,
   "id": "9d310312-2ad1-4a8e-b890-46a658a72460",
   "metadata": {},
   "outputs": [],
   "source": []
  },
  {
   "cell_type": "code",
   "execution_count": null,
   "id": "7265a0bc-b209-4dac-a5ba-584332864319",
   "metadata": {},
   "outputs": [],
   "source": []
  },
  {
   "cell_type": "code",
   "execution_count": null,
   "id": "a732d0fa-be02-4162-8a87-626bba4f2df7",
   "metadata": {},
   "outputs": [],
   "source": []
  },
  {
   "cell_type": "code",
   "execution_count": null,
   "id": "cade9aa6-7be4-4202-8c48-665a6c0c2029",
   "metadata": {},
   "outputs": [],
   "source": []
  },
  {
   "cell_type": "code",
   "execution_count": null,
   "id": "70d3df3c-70d5-42b9-b307-52754388441a",
   "metadata": {},
   "outputs": [],
   "source": []
  },
  {
   "cell_type": "code",
   "execution_count": null,
   "id": "dfead98b-07f4-45f0-9ab0-1a379a971bcf",
   "metadata": {},
   "outputs": [],
   "source": []
  },
  {
   "cell_type": "code",
   "execution_count": null,
   "id": "0ffd7873-3eb7-4b49-8731-29e89e6b357b",
   "metadata": {},
   "outputs": [],
   "source": []
  },
  {
   "cell_type": "code",
   "execution_count": null,
   "id": "157e2242-077d-4dd2-b011-c703f6390f34",
   "metadata": {},
   "outputs": [],
   "source": []
  },
  {
   "cell_type": "code",
   "execution_count": null,
   "id": "da676b3f-f847-413c-9711-25142bac2a76",
   "metadata": {},
   "outputs": [],
   "source": []
  },
  {
   "cell_type": "code",
   "execution_count": null,
   "id": "51461358-1341-4331-b437-d61046307c3c",
   "metadata": {},
   "outputs": [],
   "source": []
  },
  {
   "cell_type": "code",
   "execution_count": null,
   "id": "5ee5f877-bc99-4dc3-b80b-31eed0c6a503",
   "metadata": {},
   "outputs": [],
   "source": []
  },
  {
   "cell_type": "code",
   "execution_count": null,
   "id": "5890308f-ae24-490d-8973-5abf73752829",
   "metadata": {},
   "outputs": [],
   "source": []
  },
  {
   "cell_type": "code",
   "execution_count": null,
   "id": "4d0e5da2-6457-4d2c-be3f-50115400ad88",
   "metadata": {},
   "outputs": [],
   "source": []
  },
  {
   "cell_type": "code",
   "execution_count": null,
   "id": "1a5b7064-8bf4-4a94-8b55-fa9471a41c58",
   "metadata": {},
   "outputs": [],
   "source": []
  },
  {
   "cell_type": "code",
   "execution_count": null,
   "id": "92650f57-02a7-436f-8b8a-174aaf3ad0e6",
   "metadata": {},
   "outputs": [],
   "source": []
  },
  {
   "cell_type": "code",
   "execution_count": null,
   "id": "2992eb8b-e5c4-4e70-9c02-00bc12113c83",
   "metadata": {},
   "outputs": [],
   "source": []
  },
  {
   "cell_type": "code",
   "execution_count": null,
   "id": "67a0cc3b-34dd-463e-ba7c-4ac6fc5ac4c3",
   "metadata": {},
   "outputs": [],
   "source": []
  },
  {
   "cell_type": "code",
   "execution_count": null,
   "id": "00b31c4b-2a7f-4f14-aed0-98dd5007f982",
   "metadata": {},
   "outputs": [],
   "source": []
  },
  {
   "cell_type": "code",
   "execution_count": null,
   "id": "0856e7e3-e4dc-4342-899b-9bc31a070b01",
   "metadata": {},
   "outputs": [],
   "source": []
  },
  {
   "cell_type": "code",
   "execution_count": null,
   "id": "bd2cedd9-728c-497c-a054-266f5d1ca5b4",
   "metadata": {},
   "outputs": [],
   "source": []
  },
  {
   "cell_type": "code",
   "execution_count": null,
   "id": "ad318db5-6ae8-488f-b228-2f7a70ea3e11",
   "metadata": {},
   "outputs": [],
   "source": []
  },
  {
   "cell_type": "code",
   "execution_count": null,
   "id": "f01729df-ebc2-43f8-bc7e-0c1f18b5a04e",
   "metadata": {},
   "outputs": [],
   "source": []
  },
  {
   "cell_type": "code",
   "execution_count": null,
   "id": "c7950652-5e5d-4930-bf37-bcae612fc4d3",
   "metadata": {},
   "outputs": [],
   "source": []
  },
  {
   "cell_type": "code",
   "execution_count": null,
   "id": "e5cd41d3-d237-4a9e-a745-dc5f99da082c",
   "metadata": {},
   "outputs": [],
   "source": []
  },
  {
   "cell_type": "code",
   "execution_count": null,
   "id": "ba13984f-a448-40e8-ad4f-d446090f1723",
   "metadata": {},
   "outputs": [],
   "source": []
  },
  {
   "cell_type": "code",
   "execution_count": null,
   "id": "e597a7a5-bfe2-4204-8e8f-b24a17719329",
   "metadata": {},
   "outputs": [],
   "source": []
  },
  {
   "cell_type": "code",
   "execution_count": null,
   "id": "7a39bdf0-b463-4b6b-b3bf-3572efaadfa2",
   "metadata": {},
   "outputs": [],
   "source": []
  },
  {
   "cell_type": "code",
   "execution_count": null,
   "id": "6e16047e-6fb0-4e29-9b12-dce5c9b320c2",
   "metadata": {},
   "outputs": [],
   "source": []
  },
  {
   "cell_type": "code",
   "execution_count": null,
   "id": "ed96f3c3-3828-4807-b365-79f5332f2a23",
   "metadata": {},
   "outputs": [],
   "source": []
  },
  {
   "cell_type": "code",
   "execution_count": null,
   "id": "c519898e-64b1-4acf-9738-119e6c35ebf0",
   "metadata": {},
   "outputs": [],
   "source": []
  },
  {
   "cell_type": "code",
   "execution_count": null,
   "id": "8dbdd3e9-be15-4595-97b4-fc8f3235f326",
   "metadata": {},
   "outputs": [],
   "source": []
  },
  {
   "cell_type": "code",
   "execution_count": null,
   "id": "06600ebd-dc2e-41c4-84f3-a9b44801c2db",
   "metadata": {},
   "outputs": [],
   "source": []
  },
  {
   "cell_type": "code",
   "execution_count": null,
   "id": "7d8636c2-1d8c-48f1-bd5a-719c63c7dcd9",
   "metadata": {},
   "outputs": [],
   "source": []
  },
  {
   "cell_type": "code",
   "execution_count": null,
   "id": "1a39cf9b-6111-40d8-97c7-18c38cf93f14",
   "metadata": {},
   "outputs": [],
   "source": []
  },
  {
   "cell_type": "code",
   "execution_count": null,
   "id": "fea75c5f-b50e-4b54-bb5e-632d24e9de3a",
   "metadata": {},
   "outputs": [],
   "source": []
  },
  {
   "cell_type": "code",
   "execution_count": null,
   "id": "3c52d093-5bb1-495e-ae49-3b35e04c7bcb",
   "metadata": {},
   "outputs": [],
   "source": []
  },
  {
   "cell_type": "code",
   "execution_count": null,
   "id": "9db7144e-09ba-4f97-b511-f86cf948a061",
   "metadata": {},
   "outputs": [],
   "source": []
  },
  {
   "cell_type": "code",
   "execution_count": null,
   "id": "e887343b-2809-4705-b14b-603588e19ac0",
   "metadata": {},
   "outputs": [],
   "source": []
  },
  {
   "cell_type": "code",
   "execution_count": null,
   "id": "bc0cb1e5-9c54-4405-9886-ac440bd5b657",
   "metadata": {},
   "outputs": [],
   "source": []
  }
 ],
 "metadata": {
  "kernelspec": {
   "display_name": "Python [conda env:base] *",
   "language": "python",
   "name": "conda-base-py"
  },
  "language_info": {
   "codemirror_mode": {
    "name": "ipython",
    "version": 3
   },
   "file_extension": ".py",
   "mimetype": "text/x-python",
   "name": "python",
   "nbconvert_exporter": "python",
   "pygments_lexer": "ipython3",
   "version": "3.12.7"
  }
 },
 "nbformat": 4,
 "nbformat_minor": 5
}
